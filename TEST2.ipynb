{
 "cells": [
  {
   "cell_type": "code",
   "execution_count": 2,
   "id": "a1c163ae",
   "metadata": {},
   "outputs": [],
   "source": [
    "import ee \n",
    "import folium\n",
    "import geehydro\n",
    "from datetime import datetime as dt\n",
    "from IPython.display import Image"
   ]
  },
  {
   "cell_type": "code",
   "execution_count": 3,
   "id": "ce55ae65",
   "metadata": {},
   "outputs": [],
   "source": [
    "# initialize the connection to the server\n",
    "ee.Initialize()"
   ]
  },
  {
   "cell_type": "code",
   "execution_count": 1,
   "id": "f22d57f1",
   "metadata": {},
   "outputs": [],
   "source": [
    "# phoenix map.\n",
    "#phoenix_map = folium.Map(location=[33.4484, -112.0740], zoom_start=7)\n",
    "#phoenix_map"
   ]
  },
  {
   "cell_type": "code",
   "execution_count": 4,
   "id": "55795c1e",
   "metadata": {
    "scrolled": true
   },
   "outputs": [
    {
     "name": "stdout",
     "output_type": "stream",
     "text": [
      "['B1', 'B2', 'B3', 'B4', 'B5', 'B6', 'B7', 'B10', 'B11', 'sr_aerosol', 'pixel_qa', 'radsat_qa']\n",
      "Cloud Cover (%): 0\n",
      "2017-04-19 17:57:14\n"
     ]
    }
   ],
   "source": [
    "landsat = ee.ImageCollection(\"LANDSAT/LC08/C01/T1_SR\")\n",
    "phoenix_AOI = ee.Geometry.Rectangle([-111.974, 33.5484,\n",
    "                                   -112.174, 33.3484])\n",
    "\n",
    "landsat_AOI = landsat.filterBounds(phoenix_AOI).filterDate('2015-01-01', '2020-12-31').sort('CLOUD_COVER')\n",
    "image = landsat_AOI.median();\n",
    "\n",
    "# the names of each Landsat 8 band\n",
    "print(landsat_AOI.first().bandNames().getInfo())\n",
    "\n",
    "# the least cloudy image\n",
    "least_cloudy = ee.Image(landsat_AOI.sort('CLOUD_COVER').first())\n",
    "# how cloudy is it?\n",
    "print('Cloud Cover (%):', least_cloudy.get('CLOUD_COVER').getInfo())\n",
    "\n",
    "# when was this image taken?\n",
    "date = ee.Date(least_cloudy.get('system:time_start'))\n",
    "time = date.getInfo()['value']/1000.\n",
    "print(dt.utcfromtimestamp(time).strftime('%Y-%m-%d %H:%M:%S'))\n",
    "\n"
   ]
  },
  {
   "cell_type": "code",
   "execution_count": 9,
   "id": "64b3820c",
   "metadata": {},
   "outputs": [
    {
     "data": {
      "text/plain": [
       "{'type': 'Image',\n",
       " 'bands': [{'id': 'B1',\n",
       "   'data_type': {'type': 'PixelType',\n",
       "    'precision': 'int',\n",
       "    'min': -32768,\n",
       "    'max': 32767},\n",
       "   'dimensions': [7671, 7811],\n",
       "   'crs': 'EPSG:32612',\n",
       "   'crs_transform': [30, 0, 384885, 0, -30, 3787515]},\n",
       "  {'id': 'B2',\n",
       "   'data_type': {'type': 'PixelType',\n",
       "    'precision': 'int',\n",
       "    'min': -32768,\n",
       "    'max': 32767},\n",
       "   'dimensions': [7671, 7811],\n",
       "   'crs': 'EPSG:32612',\n",
       "   'crs_transform': [30, 0, 384885, 0, -30, 3787515]},\n",
       "  {'id': 'B3',\n",
       "   'data_type': {'type': 'PixelType',\n",
       "    'precision': 'int',\n",
       "    'min': -32768,\n",
       "    'max': 32767},\n",
       "   'dimensions': [7671, 7811],\n",
       "   'crs': 'EPSG:32612',\n",
       "   'crs_transform': [30, 0, 384885, 0, -30, 3787515]},\n",
       "  {'id': 'B4',\n",
       "   'data_type': {'type': 'PixelType',\n",
       "    'precision': 'int',\n",
       "    'min': -32768,\n",
       "    'max': 32767},\n",
       "   'dimensions': [7671, 7811],\n",
       "   'crs': 'EPSG:32612',\n",
       "   'crs_transform': [30, 0, 384885, 0, -30, 3787515]},\n",
       "  {'id': 'B5',\n",
       "   'data_type': {'type': 'PixelType',\n",
       "    'precision': 'int',\n",
       "    'min': -32768,\n",
       "    'max': 32767},\n",
       "   'dimensions': [7671, 7811],\n",
       "   'crs': 'EPSG:32612',\n",
       "   'crs_transform': [30, 0, 384885, 0, -30, 3787515]},\n",
       "  {'id': 'B6',\n",
       "   'data_type': {'type': 'PixelType',\n",
       "    'precision': 'int',\n",
       "    'min': -32768,\n",
       "    'max': 32767},\n",
       "   'dimensions': [7671, 7811],\n",
       "   'crs': 'EPSG:32612',\n",
       "   'crs_transform': [30, 0, 384885, 0, -30, 3787515]},\n",
       "  {'id': 'B7',\n",
       "   'data_type': {'type': 'PixelType',\n",
       "    'precision': 'int',\n",
       "    'min': -32768,\n",
       "    'max': 32767},\n",
       "   'dimensions': [7671, 7811],\n",
       "   'crs': 'EPSG:32612',\n",
       "   'crs_transform': [30, 0, 384885, 0, -30, 3787515]},\n",
       "  {'id': 'B10',\n",
       "   'data_type': {'type': 'PixelType',\n",
       "    'precision': 'int',\n",
       "    'min': -32768,\n",
       "    'max': 32767},\n",
       "   'dimensions': [7671, 7811],\n",
       "   'crs': 'EPSG:32612',\n",
       "   'crs_transform': [30, 0, 384885, 0, -30, 3787515]},\n",
       "  {'id': 'B11',\n",
       "   'data_type': {'type': 'PixelType',\n",
       "    'precision': 'int',\n",
       "    'min': -32768,\n",
       "    'max': 32767},\n",
       "   'dimensions': [7671, 7811],\n",
       "   'crs': 'EPSG:32612',\n",
       "   'crs_transform': [30, 0, 384885, 0, -30, 3787515]},\n",
       "  {'id': 'sr_aerosol',\n",
       "   'data_type': {'type': 'PixelType',\n",
       "    'precision': 'int',\n",
       "    'min': 0,\n",
       "    'max': 255},\n",
       "   'dimensions': [7671, 7811],\n",
       "   'crs': 'EPSG:32612',\n",
       "   'crs_transform': [30, 0, 384885, 0, -30, 3787515]},\n",
       "  {'id': 'pixel_qa',\n",
       "   'data_type': {'type': 'PixelType',\n",
       "    'precision': 'int',\n",
       "    'min': 0,\n",
       "    'max': 65535},\n",
       "   'dimensions': [7671, 7811],\n",
       "   'crs': 'EPSG:32612',\n",
       "   'crs_transform': [30, 0, 384885, 0, -30, 3787515]},\n",
       "  {'id': 'radsat_qa',\n",
       "   'data_type': {'type': 'PixelType',\n",
       "    'precision': 'int',\n",
       "    'min': 0,\n",
       "    'max': 65535},\n",
       "   'dimensions': [7671, 7811],\n",
       "   'crs': 'EPSG:32612',\n",
       "   'crs_transform': [30, 0, 384885, 0, -30, 3787515]}],\n",
       " 'id': 'LANDSAT/LC08/C01/T1_SR/LC08_036037_20170419',\n",
       " 'version': 1538942447982347,\n",
       " 'properties': {'IMAGE_QUALITY_TIRS': 9,\n",
       "  'CLOUD_COVER': 0,\n",
       "  'EARTH_SUN_DISTANCE': 1.004542,\n",
       "  'LANDSAT_ID': 'LC08_L1TP_036037_20170419_20170501_01_T1',\n",
       "  'system:footprint': {'type': 'LinearRing',\n",
       "   'coordinates': [[-112.20696372341149, 32.498524810834915],\n",
       "    [-112.20548096844283, 32.49812168119975],\n",
       "    [-110.45799759788072, 32.15663040372373],\n",
       "    [-110.33823319174805, 32.13224437837123],\n",
       "    [-110.2832910941456, 32.12101921663072],\n",
       "    [-110.0108224961157, 33.08083216140312],\n",
       "    [-109.79438359520307, 33.838978968245314],\n",
       "    [-109.79265895655891, 33.84533052310058],\n",
       "    [-109.79331180428531, 33.845888211345],\n",
       "    [-109.8894426860031, 33.865196452484476],\n",
       "    [-110.55494436253271, 33.99656324545802],\n",
       "    [-111.59550089052928, 34.193975411669165],\n",
       "    [-111.75234116353549, 34.22288538494786],\n",
       "    [-111.75273835644302, 34.222733407086814],\n",
       "    [-111.75496804024785, 34.21508438914686],\n",
       "    [-111.76349303418144, 34.18526875881197],\n",
       "    [-112.03101998707628, 33.17572772243817],\n",
       "    [-112.08847840421926, 32.95579124686599],\n",
       "    [-112.18800555022307, 32.5722596811523],\n",
       "    [-112.20368967229919, 32.5114919741088],\n",
       "    [-112.20696372341149, 32.498524810834915]]},\n",
       "  'CLOUD_COVER_LAND': 0,\n",
       "  'GEOMETRIC_RMSE_MODEL': 5.858,\n",
       "  'SR_APP_VERSION': 'LaSRC_1.3.0',\n",
       "  'SATELLITE': 'LANDSAT_8',\n",
       "  'SOLAR_AZIMUTH_ANGLE': 132.952682,\n",
       "  'IMAGE_QUALITY_OLI': 9,\n",
       "  'WRS_PATH': 36,\n",
       "  'system:time_start': 1492624634400,\n",
       "  'SENSING_TIME': '2017-04-19T17:57:14.3968810Z',\n",
       "  'ESPA_VERSION': '2_23_0_1a',\n",
       "  'SOLAR_ZENITH_ANGLE': 29.311024,\n",
       "  'WRS_ROW': 37,\n",
       "  'GEOMETRIC_RMSE_MODEL_Y': 3.743,\n",
       "  'LEVEL1_PRODUCTION_DATE': 1493675732000,\n",
       "  'GEOMETRIC_RMSE_MODEL_X': 4.506,\n",
       "  'system:asset_size': 645949314,\n",
       "  'PIXEL_QA_VERSION': 'generate_pixel_qa_1.6.0',\n",
       "  'system:index': 'LC08_036037_20170419'}}"
      ]
     },
     "execution_count": 9,
     "metadata": {},
     "output_type": "execute_result"
    }
   ],
   "source": [
    "\n",
    "least_cloudy.getInfo()\n",
    "#type(date)\n",
    "#date.getInfo()\n"
   ]
  },
  {
   "cell_type": "code",
   "execution_count": 112,
   "id": "2225254e",
   "metadata": {},
   "outputs": [
    {
     "data": {
      "text/plain": [
       "'2017-04-19 17:57:14'"
      ]
     },
     "execution_count": 112,
     "metadata": {},
     "output_type": "execute_result"
    }
   ],
   "source": [
    "dt.utcfromtimestamp(time).strftime('%Y-%m-%d %H:%M:%S')"
   ]
  }
 ],
 "metadata": {
  "kernelspec": {
   "display_name": "phoenix",
   "language": "python",
   "name": "phoenix"
  },
  "language_info": {
   "codemirror_mode": {
    "name": "ipython",
    "version": 3
   },
   "file_extension": ".py",
   "mimetype": "text/x-python",
   "name": "python",
   "nbconvert_exporter": "python",
   "pygments_lexer": "ipython3",
   "version": "3.7.11"
  }
 },
 "nbformat": 4,
 "nbformat_minor": 5
}
