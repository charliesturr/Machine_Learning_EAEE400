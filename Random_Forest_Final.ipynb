{
 "cells": [
  {
   "cell_type": "code",
   "execution_count": 1,
   "id": "ba9a15bb",
   "metadata": {
    "scrolled": true
   },
   "outputs": [
    {
     "name": "stderr",
     "output_type": "stream",
     "text": [
      "C:\\Anaconda\\envs\\phoenix\\lib\\site-packages\\tensorflow\\python\\framework\\dtypes.py:516: FutureWarning: Passing (type, 1) or '1type' as a synonym of type is deprecated; in a future version of numpy, it will be understood as (type, (1,)) / '(1,)type'.\n",
      "  _np_qint8 = np.dtype([(\"qint8\", np.int8, 1)])\n",
      "C:\\Anaconda\\envs\\phoenix\\lib\\site-packages\\tensorflow\\python\\framework\\dtypes.py:517: FutureWarning: Passing (type, 1) or '1type' as a synonym of type is deprecated; in a future version of numpy, it will be understood as (type, (1,)) / '(1,)type'.\n",
      "  _np_quint8 = np.dtype([(\"quint8\", np.uint8, 1)])\n",
      "C:\\Anaconda\\envs\\phoenix\\lib\\site-packages\\tensorflow\\python\\framework\\dtypes.py:518: FutureWarning: Passing (type, 1) or '1type' as a synonym of type is deprecated; in a future version of numpy, it will be understood as (type, (1,)) / '(1,)type'.\n",
      "  _np_qint16 = np.dtype([(\"qint16\", np.int16, 1)])\n",
      "C:\\Anaconda\\envs\\phoenix\\lib\\site-packages\\tensorflow\\python\\framework\\dtypes.py:519: FutureWarning: Passing (type, 1) or '1type' as a synonym of type is deprecated; in a future version of numpy, it will be understood as (type, (1,)) / '(1,)type'.\n",
      "  _np_quint16 = np.dtype([(\"quint16\", np.uint16, 1)])\n",
      "C:\\Anaconda\\envs\\phoenix\\lib\\site-packages\\tensorflow\\python\\framework\\dtypes.py:520: FutureWarning: Passing (type, 1) or '1type' as a synonym of type is deprecated; in a future version of numpy, it will be understood as (type, (1,)) / '(1,)type'.\n",
      "  _np_qint32 = np.dtype([(\"qint32\", np.int32, 1)])\n",
      "C:\\Anaconda\\envs\\phoenix\\lib\\site-packages\\tensorflow\\python\\framework\\dtypes.py:525: FutureWarning: Passing (type, 1) or '1type' as a synonym of type is deprecated; in a future version of numpy, it will be understood as (type, (1,)) / '(1,)type'.\n",
      "  np_resource = np.dtype([(\"resource\", np.ubyte, 1)])\n",
      "C:\\Anaconda\\envs\\phoenix\\lib\\site-packages\\tensorboard\\compat\\tensorflow_stub\\dtypes.py:541: FutureWarning: Passing (type, 1) or '1type' as a synonym of type is deprecated; in a future version of numpy, it will be understood as (type, (1,)) / '(1,)type'.\n",
      "  _np_qint8 = np.dtype([(\"qint8\", np.int8, 1)])\n",
      "C:\\Anaconda\\envs\\phoenix\\lib\\site-packages\\tensorboard\\compat\\tensorflow_stub\\dtypes.py:542: FutureWarning: Passing (type, 1) or '1type' as a synonym of type is deprecated; in a future version of numpy, it will be understood as (type, (1,)) / '(1,)type'.\n",
      "  _np_quint8 = np.dtype([(\"quint8\", np.uint8, 1)])\n",
      "C:\\Anaconda\\envs\\phoenix\\lib\\site-packages\\tensorboard\\compat\\tensorflow_stub\\dtypes.py:543: FutureWarning: Passing (type, 1) or '1type' as a synonym of type is deprecated; in a future version of numpy, it will be understood as (type, (1,)) / '(1,)type'.\n",
      "  _np_qint16 = np.dtype([(\"qint16\", np.int16, 1)])\n",
      "C:\\Anaconda\\envs\\phoenix\\lib\\site-packages\\tensorboard\\compat\\tensorflow_stub\\dtypes.py:544: FutureWarning: Passing (type, 1) or '1type' as a synonym of type is deprecated; in a future version of numpy, it will be understood as (type, (1,)) / '(1,)type'.\n",
      "  _np_quint16 = np.dtype([(\"quint16\", np.uint16, 1)])\n",
      "C:\\Anaconda\\envs\\phoenix\\lib\\site-packages\\tensorboard\\compat\\tensorflow_stub\\dtypes.py:545: FutureWarning: Passing (type, 1) or '1type' as a synonym of type is deprecated; in a future version of numpy, it will be understood as (type, (1,)) / '(1,)type'.\n",
      "  _np_qint32 = np.dtype([(\"qint32\", np.int32, 1)])\n",
      "C:\\Anaconda\\envs\\phoenix\\lib\\site-packages\\tensorboard\\compat\\tensorflow_stub\\dtypes.py:550: FutureWarning: Passing (type, 1) or '1type' as a synonym of type is deprecated; in a future version of numpy, it will be understood as (type, (1,)) / '(1,)type'.\n",
      "  np_resource = np.dtype([(\"resource\", np.ubyte, 1)])\n"
     ]
    }
   ],
   "source": [
    "# packages used in this tutorial \n",
    "import numpy as np\n",
    "import pandas as pd\n",
    "import matplotlib.pyplot as plt\n",
    "import seaborn as sns\n",
    "\n",
    "# keras is only to get boston housing data\n",
    "# boston housing is also here: from sklearn.datasets import load_boston\n",
    "#import tensorflow as tf\n",
    "from tensorflow import keras\n",
    "\n",
    "# gradient boosting \n",
    "from xgboost import XGBRegressor\n",
    "\n",
    "# random forest\n",
    "from sklearn.ensemble import RandomForestRegressor\n",
    "\n",
    "# evaluation metrics\n",
    "from sklearn.metrics import mean_squared_error"
   ]
  },
  {
   "cell_type": "code",
   "execution_count": 2,
   "id": "e473c353",
   "metadata": {},
   "outputs": [
    {
     "data": {
      "text/html": [
       "<div>\n",
       "<style scoped>\n",
       "    .dataframe tbody tr th:only-of-type {\n",
       "        vertical-align: middle;\n",
       "    }\n",
       "\n",
       "    .dataframe tbody tr th {\n",
       "        vertical-align: top;\n",
       "    }\n",
       "\n",
       "    .dataframe thead th {\n",
       "        text-align: right;\n",
       "    }\n",
       "</style>\n",
       "<table border=\"1\" class=\"dataframe\">\n",
       "  <thead>\n",
       "    <tr style=\"text-align: right;\">\n",
       "      <th></th>\n",
       "      <th>FID</th>\n",
       "      <th>dist_center</th>\n",
       "      <th>CBG_area</th>\n",
       "      <th>temp</th>\n",
       "      <th>ndvi</th>\n",
       "      <th>Max_Area_Single_Building</th>\n",
       "      <th>AREA_M2</th>\n",
       "      <th>AVGHT_M</th>\n",
       "      <th>MAXHT_M</th>\n",
       "      <th>High Density Percentage</th>\n",
       "      <th>...</th>\n",
       "      <th>Median HH Income</th>\n",
       "      <th>Population Density</th>\n",
       "      <th>Percent Renter</th>\n",
       "      <th>Imperviousness</th>\n",
       "      <th>ROOFTYPE_Complex</th>\n",
       "      <th>ROOFTYPE_Flat</th>\n",
       "      <th>ROOFTYPE_Pitched</th>\n",
       "      <th>Max_Building_Area_Rooftype_Complex</th>\n",
       "      <th>Max_Building_Area_Rooftype_Flat</th>\n",
       "      <th>Max_Building_Area_Rooftype_Pitched</th>\n",
       "    </tr>\n",
       "  </thead>\n",
       "  <tbody>\n",
       "    <tr>\n",
       "      <th>0</th>\n",
       "      <td>6</td>\n",
       "      <td>23133.721050</td>\n",
       "      <td>1.247750e+06</td>\n",
       "      <td>50.051790</td>\n",
       "      <td>0.218881</td>\n",
       "      <td>5417.874</td>\n",
       "      <td>134844.492</td>\n",
       "      <td>3.504549</td>\n",
       "      <td>23.37</td>\n",
       "      <td>0.05</td>\n",
       "      <td>...</td>\n",
       "      <td>29738</td>\n",
       "      <td>2611.323360</td>\n",
       "      <td>0.391453</td>\n",
       "      <td>0.62</td>\n",
       "      <td>0</td>\n",
       "      <td>1</td>\n",
       "      <td>0</td>\n",
       "      <td>0</td>\n",
       "      <td>1</td>\n",
       "      <td>0</td>\n",
       "    </tr>\n",
       "    <tr>\n",
       "      <th>1</th>\n",
       "      <td>7</td>\n",
       "      <td>23527.866880</td>\n",
       "      <td>1.103573e+06</td>\n",
       "      <td>51.547895</td>\n",
       "      <td>0.126049</td>\n",
       "      <td>2035.870</td>\n",
       "      <td>142041.843</td>\n",
       "      <td>3.046672</td>\n",
       "      <td>15.44</td>\n",
       "      <td>0.09</td>\n",
       "      <td>...</td>\n",
       "      <td>27457</td>\n",
       "      <td>2963.598346</td>\n",
       "      <td>0.025907</td>\n",
       "      <td>0.77</td>\n",
       "      <td>0</td>\n",
       "      <td>1</td>\n",
       "      <td>0</td>\n",
       "      <td>0</td>\n",
       "      <td>0</td>\n",
       "      <td>1</td>\n",
       "    </tr>\n",
       "    <tr>\n",
       "      <th>2</th>\n",
       "      <td>8</td>\n",
       "      <td>9054.086016</td>\n",
       "      <td>1.084723e+06</td>\n",
       "      <td>50.747488</td>\n",
       "      <td>0.143357</td>\n",
       "      <td>1297.170</td>\n",
       "      <td>100119.178</td>\n",
       "      <td>3.143304</td>\n",
       "      <td>18.59</td>\n",
       "      <td>0.01</td>\n",
       "      <td>...</td>\n",
       "      <td>41193</td>\n",
       "      <td>6673.801532</td>\n",
       "      <td>0.526706</td>\n",
       "      <td>0.43</td>\n",
       "      <td>1</td>\n",
       "      <td>0</td>\n",
       "      <td>0</td>\n",
       "      <td>0</td>\n",
       "      <td>1</td>\n",
       "      <td>0</td>\n",
       "    </tr>\n",
       "    <tr>\n",
       "      <th>3</th>\n",
       "      <td>9</td>\n",
       "      <td>9551.986670</td>\n",
       "      <td>3.691126e+06</td>\n",
       "      <td>47.575352</td>\n",
       "      <td>0.297048</td>\n",
       "      <td>7830.566</td>\n",
       "      <td>195519.101</td>\n",
       "      <td>4.162645</td>\n",
       "      <td>20.62</td>\n",
       "      <td>0.02</td>\n",
       "      <td>...</td>\n",
       "      <td>45673</td>\n",
       "      <td>2222.467998</td>\n",
       "      <td>0.804651</td>\n",
       "      <td>0.38</td>\n",
       "      <td>0</td>\n",
       "      <td>0</td>\n",
       "      <td>1</td>\n",
       "      <td>0</td>\n",
       "      <td>1</td>\n",
       "      <td>0</td>\n",
       "    </tr>\n",
       "    <tr>\n",
       "      <th>4</th>\n",
       "      <td>10</td>\n",
       "      <td>7493.627497</td>\n",
       "      <td>8.994859e+05</td>\n",
       "      <td>51.004228</td>\n",
       "      <td>0.142109</td>\n",
       "      <td>2792.202</td>\n",
       "      <td>104449.354</td>\n",
       "      <td>3.051258</td>\n",
       "      <td>13.32</td>\n",
       "      <td>0.01</td>\n",
       "      <td>...</td>\n",
       "      <td>37014</td>\n",
       "      <td>12807.619490</td>\n",
       "      <td>0.339009</td>\n",
       "      <td>0.48</td>\n",
       "      <td>0</td>\n",
       "      <td>0</td>\n",
       "      <td>1</td>\n",
       "      <td>0</td>\n",
       "      <td>1</td>\n",
       "      <td>0</td>\n",
       "    </tr>\n",
       "  </tbody>\n",
       "</table>\n",
       "<p>5 rows × 23 columns</p>\n",
       "</div>"
      ],
      "text/plain": [
       "   FID   dist_center      CBG_area       temp      ndvi  \\\n",
       "0    6  23133.721050  1.247750e+06  50.051790  0.218881   \n",
       "1    7  23527.866880  1.103573e+06  51.547895  0.126049   \n",
       "2    8   9054.086016  1.084723e+06  50.747488  0.143357   \n",
       "3    9   9551.986670  3.691126e+06  47.575352  0.297048   \n",
       "4   10   7493.627497  8.994859e+05  51.004228  0.142109   \n",
       "\n",
       "   Max_Area_Single_Building     AREA_M2   AVGHT_M  MAXHT_M  \\\n",
       "0                  5417.874  134844.492  3.504549    23.37   \n",
       "1                  2035.870  142041.843  3.046672    15.44   \n",
       "2                  1297.170  100119.178  3.143304    18.59   \n",
       "3                  7830.566  195519.101  4.162645    20.62   \n",
       "4                  2792.202  104449.354  3.051258    13.32   \n",
       "\n",
       "   High Density Percentage  ...  Median HH Income  Population Density  \\\n",
       "0                     0.05  ...             29738         2611.323360   \n",
       "1                     0.09  ...             27457         2963.598346   \n",
       "2                     0.01  ...             41193         6673.801532   \n",
       "3                     0.02  ...             45673         2222.467998   \n",
       "4                     0.01  ...             37014        12807.619490   \n",
       "\n",
       "   Percent Renter  Imperviousness  ROOFTYPE_Complex  ROOFTYPE_Flat  \\\n",
       "0        0.391453            0.62                 0              1   \n",
       "1        0.025907            0.77                 0              1   \n",
       "2        0.526706            0.43                 1              0   \n",
       "3        0.804651            0.38                 0              0   \n",
       "4        0.339009            0.48                 0              0   \n",
       "\n",
       "   ROOFTYPE_Pitched  Max_Building_Area_Rooftype_Complex  \\\n",
       "0                 0                                   0   \n",
       "1                 0                                   0   \n",
       "2                 0                                   0   \n",
       "3                 1                                   0   \n",
       "4                 1                                   0   \n",
       "\n",
       "   Max_Building_Area_Rooftype_Flat  Max_Building_Area_Rooftype_Pitched  \n",
       "0                                1                                   0  \n",
       "1                                0                                   1  \n",
       "2                                1                                   0  \n",
       "3                                1                                   0  \n",
       "4                                1                                   0  \n",
       "\n",
       "[5 rows x 23 columns]"
      ]
     },
     "execution_count": 2,
     "metadata": {},
     "output_type": "execute_result"
    }
   ],
   "source": [
    "phoenix = pd.read_csv('final_summer_16_only_buildings.csv')\n",
    "\n",
    "phoenix = pd.get_dummies(phoenix)\n",
    "phoenix.iloc[:,0:].head()"
   ]
  },
  {
   "cell_type": "code",
   "execution_count": 3,
   "id": "882580d5",
   "metadata": {
    "scrolled": true
   },
   "outputs": [],
   "source": [
    "phoenix = pd.read_csv('final_summer_16_only_buildings.csv')\n",
    "\n",
    "phoenix = pd.get_dummies(phoenix)\n",
    "phoenix.iloc[:,0:].head()\n",
    "\n",
    "phoenix = pd.read_csv('FINAL_SUMMER_16.csv')\n",
    "phoenix = pd.get_dummies(phoenix)\n",
    "\n",
    "phoenix.iloc[:,0:].head()\n",
    "\n",
    "labels = np.array(phoenix['temp'])\n",
    "\n",
    "phoenix = phoenix.drop('temp', axis = 1)\n",
    "\n",
    "phoenix = phoenix.drop('FID', axis = 1)\n",
    "\n",
    "new_df = phoenix\n",
    "\n",
    "feature_list = list(phoenix.columns)\n",
    "\n",
    "phoenix = np.array(phoenix)\n"
   ]
  },
  {
   "cell_type": "code",
   "execution_count": 4,
   "id": "9b4048bb",
   "metadata": {
    "scrolled": false
   },
   "outputs": [
    {
     "name": "stdout",
     "output_type": "stream",
     "text": [
      "Training Features Shape: (1878, 21)\n",
      "Training Labels Shape: (1878,)\n",
      "Testing Features Shape: (627, 21)\n",
      "Testing Labels Shape: (627,)\n"
     ]
    }
   ],
   "source": [
    "from sklearn.model_selection import train_test_split\n",
    "\n",
    "train_features, test_features, train_labels, test_labels = train_test_split(phoenix, labels, test_size = 0.25, random_state = 103)\n",
    "\n",
    "columns = ['Dist_Center', 'CBG_Area', 'NDVI', 'Max_Area', 'Total_Building_Area', 'Avg. Height', 'Max Height',\n",
    "                'High Density', 'Medium Density', 'Low Density', 'Shrub', 'Median Income','Pop Density', '% Rent', 'imperviousness', 'complex_height', 'flat_height', 'pitched_height', 'complex_max', 'flat_max', 'pitched_max']\n",
    "\n",
    "\n",
    "df = pd.DataFrame(train_features, columns = columns)\n",
    "\n",
    "train_features = np.nan_to_num(train_features.astype(np.float32))\n",
    "test_features = np.nan_to_num(test_features.astype(np.float32))\n",
    "train_labels = np.nan_to_num(train_labels.astype(np.float32))\n",
    "test_labels = np.nan_to_num(test_labels.astype(np.float32))\n",
    "print('Training Features Shape:', train_features.shape)\n",
    "print('Training Labels Shape:', train_labels.shape)\n",
    "print('Testing Features Shape:', test_features.shape)\n",
    "print('Testing Labels Shape:', test_labels.shape)\n",
    "\n",
    "\n"
   ]
  },
  {
   "cell_type": "code",
   "execution_count": 5,
   "id": "d192ebae",
   "metadata": {},
   "outputs": [],
   "source": [
    "#======================================================\n",
    "# setup model parameters, choose RFR or XGB\n",
    "# if you comment out a parameter it will use default value\n",
    "#======================================================\n",
    "# RFR parameters (random forest regression)\n",
    "params_rfr = {'n_estimators':1000,\n",
    "              'criterion':'mse', \n",
    "              #'ccp_alpha':0.001,\n",
    "              'max_depth': 10,\n",
    "              #'min_samples_leaf':1,\n",
    "              #'min_samples_split':5,\n",
    "              'bootstrap':True,\n",
    "              'max_features':None}\n",
    "\n",
    "\n",
    "# XGB parameters (extreme gradient boosting)\n",
    "params_xgb = {'objective': 'reg:squarederror',\n",
    "              #'base_score': 0.5,     # chosen as median of validation set\n",
    "              'n_estimators': 2000,  # number of trees to use\n",
    "              #'learning_rate': 0.01, \n",
    "              'max_depth': 30,       # how many levels are in each tree\n",
    "              #'subsample': 1,\n",
    "              #'colsample_bytree': 0.8,\n",
    "              # REGULARIZATION  alpha (L2) and lambda (L1)\n",
    "              'reg_alpha': 1,\n",
    "              'reg_lambda': 0,}"
   ]
  },
  {
   "cell_type": "code",
   "execution_count": 6,
   "id": "671d0f60",
   "metadata": {},
   "outputs": [],
   "source": [
    "#======================================================\n",
    "# define the model, uncomment the one you want to use\n",
    "#======================================================\n",
    "model = RandomForestRegressor(**params_rfr)\n",
    "#model = XGBRegressor(**params_xgb)"
   ]
  },
  {
   "cell_type": "code",
   "execution_count": 7,
   "id": "25c65cd0",
   "metadata": {
    "scrolled": true
   },
   "outputs": [
    {
     "name": "stderr",
     "output_type": "stream",
     "text": [
      "C:\\Anaconda\\envs\\phoenix\\lib\\site-packages\\sklearn\\ensemble\\_forest.py:392: FutureWarning: Criterion 'mse' was deprecated in v1.0 and will be removed in version 1.2. Use `criterion='squared_error'` which is equivalent.\n",
      "  FutureWarning,\n"
     ]
    },
    {
     "name": "stdout",
     "output_type": "stream",
     "text": [
      "Wall time: 10 s\n"
     ]
    },
    {
     "data": {
      "text/plain": [
       "RandomForestRegressor(criterion='mse', max_depth=10, max_features=None,\n",
       "                      n_estimators=1000)"
      ]
     },
     "execution_count": 7,
     "metadata": {},
     "output_type": "execute_result"
    }
   ],
   "source": [
    "%%time\n",
    "model.fit(train_features, train_labels)"
   ]
  },
  {
   "cell_type": "code",
   "execution_count": 8,
   "id": "a192bf47",
   "metadata": {
    "scrolled": true
   },
   "outputs": [
    {
     "data": {
      "image/png": "[encoded data removed]",
      "text/plain": [
       "<Figure size 432x288 with 1 Axes>"
      ]
     },
     "metadata": {
      "needs_background": "light"
     },
     "output_type": "display_data"
    }
   ],
   "source": [
    "test_predictions = model.predict(test_features)\n",
    "\n",
    "plt.scatter(test_labels, test_predictions)\n",
    "plt.xlabel('True Values [1000$]')\n",
    "plt.ylabel('Predictions [1000$]')\n",
    "plt.axis('equal')\n",
    "plt.xlim(plt.xlim())\n",
    "plt.ylim(plt.ylim())\n",
    "_ = plt.plot([-100, 100], [-100, 100])"
   ]
  },
  {
   "cell_type": "code",
   "execution_count": 9,
   "id": "a347ba20",
   "metadata": {
    "scrolled": true
   },
   "outputs": [
    {
     "data": {
      "image/png": "[encoded data removed]",
      "text/plain": [
       "<Figure size 432x288 with 1 Axes>"
      ]
     },
     "metadata": {
      "needs_background": "light"
     },
     "output_type": "display_data"
    }
   ],
   "source": [
    "# histogram\n",
    "error = test_predictions - test_labels\n",
    "plt.hist(error, bins = 50)\n",
    "plt.xlabel(\"Prediction Error [1000$]\")\n",
    "_ = plt.ylabel(\"Count\")"
   ]
  },
  {
   "cell_type": "code",
   "execution_count": 10,
   "id": "bcfa668d",
   "metadata": {},
   "outputs": [
    {
     "name": "stdout",
     "output_type": "stream",
     "text": [
      "the mse is 0.7271536176752926\n"
     ]
    }
   ],
   "source": [
    "mse = mean_squared_error(test_labels, test_predictions)\n",
    "print(f'the mse is {mse}')"
   ]
  },
  {
   "cell_type": "code",
   "execution_count": 11,
   "id": "11a5702a",
   "metadata": {},
   "outputs": [],
   "source": [
    "def plot_feature_importance(importance, names):\n",
    "    '''\n",
    "    this code is from here: \n",
    "    https://www.analyseup.com/learn-python-for-data-science/python-random-forest-feature-importance-plot.html\n",
    "    '''\n",
    "    #Create arrays from feature importance and feature names\n",
    "    feature_importance = np.array(importance)\n",
    "    feature_names = np.array(names)\n",
    "\n",
    "    #Create a DataFrame using a Dictionary\n",
    "    data={'feature_names':feature_names,'feature_importance':feature_importance}\n",
    "    fi_df = pd.DataFrame(data)\n",
    "\n",
    "    #Sort the DataFrame in order decreasing feature importance\n",
    "    fi_df.sort_values(by=['feature_importance'], ascending=False,inplace=True)\n",
    "\n",
    "    #Define size of bar plot\n",
    "    plt.figure(figsize=(10,8))\n",
    "    #Plot Searborn bar chart\n",
    "    sns.barplot(x=fi_df['feature_importance'], y=fi_df['feature_names'])\n",
    "    #Add chart labels\n",
    "    plt.title('FEATURE IMPORTANCE')\n",
    "    plt.xlabel('FEATURE IMPORTANCE')\n",
    "    plt.ylabel('FEATURE NAMES')"
   ]
  },
  {
   "cell_type": "code",
   "execution_count": 12,
   "id": "fde43ae8",
   "metadata": {},
   "outputs": [
    {
     "data": {
      "image/png": "[encoded data removed]",
      "text/plain": [
       "<Figure size 720x576 with 1 Axes>"
      ]
     },
     "metadata": {
      "needs_background": "light"
     },
     "output_type": "display_data"
    }
   ],
   "source": [
    "plot_feature_importance(model.feature_importances_, df.columns)"
   ]
  },
  {
   "cell_type": "code",
   "execution_count": null,
   "id": "a7aac04b",
   "metadata": {},
   "outputs": [],
   "source": []
  }
 ],
 "metadata": {
  "kernelspec": {
   "display_name": "phoenix",
   "language": "python",
   "name": "phoenix"
  },
  "language_info": {
   "codemirror_mode": {
    "name": "ipython",
    "version": 3
   },
   "file_extension": ".py",
   "mimetype": "text/x-python",
   "name": "python",
   "nbconvert_exporter": "python",
   "pygments_lexer": "ipython3",
   "version": "3.7.11"
  }
 },
 "nbformat": 4,
 "nbformat_minor": 5
}
